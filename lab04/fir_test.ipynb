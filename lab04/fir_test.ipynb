{
  "metadata": {
    "kernelspec": {
      "name": "python",
      "display_name": "Python (Pyodide)",
      "language": "python"
    },
    "language_info": {
      "codemirror_mode": {
        "name": "python",
        "version": 3
      },
      "file_extension": ".py",
      "mimetype": "text/x-python",
      "name": "python",
      "nbconvert_exporter": "python",
      "pygments_lexer": "ipython3",
      "version": "3.8"
    }
  },
  "nbformat_minor": 5,
  "nbformat": 4,
  "cells": [
    {
      "id": "97674215",
      "cell_type": "code",
      "source": "from __future__ import print_function\n\nimport sys\nimport numpy as np\nfrom time import time\nimport matplotlib.pyplot as plt \n\nsys.path.append('/home/xilinx')\nfrom pynq import Overlay\nfrom pynq import allocate\nfrom pynq import MMIO\n\nROM_SIZE = 0x2000 #8K\n\nSOC_UP = 0x0000;\nSOC_LA = 0x1000;\nPL_AA_MB = 0x2000;\nPL_AA = 0x2100;\nSOC_IS = 0x3000;\nSOC_AS = 0x4000;\nSOC_CC = 0x5000;\nPL_AS = 0x6000;\nPL_IS = 0x7000;\nPL_DMA = 0x8000;\nol = Overlay(\"dma.bit\")\n#ol.ip_dict\nipOUTPIN = ol.output_pin_0\nipPS = ol.caravel_ps_0\n# ipReadROMCODE = ol.read_romcode_0\n\n#Add for SPI\nip_QSPI = ol.axi_quad_spi_0\n# ============================================\n# AXI QuadSPI Control\n# ============================================\nXSP_DGIER_OFFSET = 0x1C\nXSP_IISR_OFFSET = 0x20\nXSP_IIER_OFFSET = 0x28\nXSP_SRR_OFFSET = 0x40\nXSP_CR_OFFSET = 0x60\nXSP_SR_OFFSET = 0x64\nXSP_DTR_OFFSET = 0x68\nXSP_DRR_OFFSET = 0x6C\nXSP_SSR_OFFSET = 0x70\nXSP_TFO_OFFSET = 0x74\nXSP_RFO_OFFSET = 0x78\nXSP_REGISTERS = [0x40, 0x60, 0x64, 0x68, 0x6c, 0x70, 0x74, 0x78, 0x1c, 0x20, 0x28]\n\nXSP_SRR_RESET_MASK = 0x0A\nXSP_SR_TX_EMPTY_MASK = 0x04\nXSP_SR_TX_FULL_MASK = 0x08\nXSP_CR_TRANS_INHIBIT_MASK = 0x100\nXSP_CR_LOOPBACK_MASK = 0x01\nXSP_CR_ENABLE_MASK = 0x02\nXSP_CR_MASTER_MODE_MASK = 0x04\nXSP_CR_CLK_POLARITY_MASK = 0x08\nXSP_CR_CLK_PHASE_MASK = 0x10\nXSP_CR_TXFIFO_RESET_MASK = 0x20\nXSP_CR_RXFIFO_RESET_MASK = 0x40\nXSP_CR_MANUAL_SS_MASK = 0x80\n\nSLAVE_NO_SELECTION = 0xFFFFFFFF\n\ndef cnfg(AxiQspi, clk_phase=0, clk_pol=0):\n    print(\"Configure device\")\n    # Reset the SPI device\n    AxiQspi.write(XSP_SRR_OFFSET, XSP_SRR_RESET_MASK)\n    # Enable the transmit empty interrupt, which we use to determine progress on the transmission. \n    AxiQspi.write(XSP_IIER_OFFSET, XSP_SR_TX_EMPTY_MASK)\n    # Disable the global IPIF interrupt\n    AxiQspi.write(XSP_DGIER_OFFSET, 0)\n    # Deselect the slave on the SPI bus\n    AxiQspi.write(XSP_SSR_OFFSET, SLAVE_NO_SELECTION)\n    # Disable the transmitter, enable Manual Slave Select Assertion, put SPI controller into master mode, and enable it\n    ControlReg = AxiQspi.read(XSP_CR_OFFSET)\n    ControlReg = ControlReg | XSP_CR_MASTER_MODE_MASK | XSP_CR_MANUAL_SS_MASK | XSP_CR_ENABLE_MASK | XSP_CR_TXFIFO_RESET_MASK | XSP_CR_RXFIFO_RESET_MASK\n    AxiQspi.write(XSP_CR_OFFSET, ControlReg)\n    ControlReg = AxiQspi.read(XSP_CR_OFFSET)\n    ControlReg = ControlReg & ~(XSP_CR_CLK_PHASE_MASK | XSP_CR_CLK_POLARITY_MASK) \n    if clk_phase == 1:\n        ControlReg = ControlReg | XSP_CR_CLK_PHASE_MASK\n    if clk_pol == 1:\n        ControlReg = ControlReg | XSP_CR_CLK_POLARITY_MASK\n    AxiQspi.write(XSP_CR_OFFSET, ControlReg)\n\n    return 0\n\ndef write_tx_fifo(AxiQspi):\n    #print(\"TransferData\")\n    ControlReg = AxiQspi.read(XSP_CR_OFFSET)\n    ControlReg = ControlReg & ~XSP_CR_TRANS_INHIBIT_MASK\n    AxiQspi.write(XSP_CR_OFFSET, ControlReg)\n\n    StatusReg = AxiQspi.read(XSP_SR_OFFSET)\n    while (StatusReg & XSP_SR_TX_EMPTY_MASK) == 0:\n        StatusReg = AxiQspi.read(XSP_SR_OFFSET)\n\n    #print('XSP_RFO_OFFSET  : 0x{0:08x}'.format(AxiQspi.read(XSP_RFO_OFFSET)))\n    ControlReg = AxiQspi.read(XSP_CR_OFFSET)\n    ControlReg = ControlReg | XSP_CR_TRANS_INHIBIT_MASK\n    AxiQspi.write(XSP_CR_OFFSET, ControlReg)\n\n\ndef read_rx_fifo(bypass_length, AxiQspi):\n    #print(\"ReadResponse\")\n    resp = list()\n    RxFifoStatus = AxiQspi.read(XSP_SR_OFFSET) & 0x01\n    \n    # By pass the FIFO data during master issue command and address to slave device\n    command_addr_length = bypass_length\n    counter = 0    \n    \n    while RxFifoStatus == 0:\n        #temp = AxiQspi.read(XSP_RFO_OFFSET)\n        #print('XSP_RFO_OFFSET  : 0x{0:08x}'.format(temp))\n        temp = AxiQspi.read(XSP_DRR_OFFSET)\n        #print('XSP_DRR_OFFSET  : 0x{0:08x}'.format(temp))    \n\n        counter = counter + 1\n        if(counter > command_addr_length):\n            resp.append(temp)        \n        \n        RxFifoStatus = AxiQspi.read(XSP_SR_OFFSET) & 0x01\n\n    return resp\n# Check MPRJ_IO input/out/en\n# 0x10 : Data signal of ps_mprj_in\n#        bit 31~0 - ps_mprj_in[31:0] (Read/Write)\n# 0x14 : Data signal of ps_mprj_in\n#        bit 5~0 - ps_mprj_in[37:32] (Read/Write)\n#        others  - reserved\n# 0x1c : Data signal of ps_mprj_out\n#        bit 31~0 - ps_mprj_out[31:0] (Read)\n# 0x20 : Data signal of ps_mprj_out\n#        bit 5~0 - ps_mprj_out[37:32] (Read)\n#        others  - reserved\n# 0x34 : Data signal of ps_mprj_en\n#        bit 31~0 - ps_mprj_en[31:0] (Read)\n# 0x38 : Data signal of ps_mprj_en\n#        bit 5~0 - ps_mprj_en[37:32] (Read)\n#        others  - reserved\n\nprint (\"0x10 = \", hex(ipPS.read(0x10)))\nprint (\"0x14 = \", hex(ipPS.read(0x14)))\nprint (\"0x1c = \", hex(ipPS.read(0x1c)))\nprint (\"0x20 = \", hex(ipPS.read(0x20)))\nprint (\"0x34 = \", hex(ipPS.read(0x34)))\nprint (\"0x38 = \", hex(ipPS.read(0x38)))\n# ============================================\n# Release Reset First before passthrough mode\n# ============================================\n# Release Caravel reset\n# 0x10 : Data signal of outpin_ctrl\n#        bit 0  - outpin_ctrl[0] (Read/Write)\n#        others - reserved\nprint (ipOUTPIN.read(0x10))\nipOUTPIN.write(0x10, 1)\nprint (ipOUTPIN.read(0x10))\n# ============================================\n# Load firmware (fsic.hex) to memory npROM\n# ============================================\n\n# Create np with 8K/4 (4 bytes per index) size and be initiled to 0\nnpROM = np.zeros(ROM_SIZE >> 2, dtype=np.uint32)\n\nnpROM_index = 0\nnpROM_offset = 0\nfiROM = open(\"fsic.hex\", \"r+\")\n\nfor line in fiROM:\n    # offset header\n    if line.startswith('@'):\n        # Ignore first char @\n        npROM_offset = int(line[1:].strip(b'\\x00'.decode()), base = 16)\n        npROM_offset = npROM_offset >> 2 # 4byte per offset\n        #print (npROM_offset)\n        npROM_index = 0\n        continue\n    #print (line)\n\n    # We suppose the data must be 32bit alignment\n    buffer = 0\n    bytecount = 0\n    for line_byte in line.strip(b'\\x00'.decode()).split():\n        buffer += int(line_byte, base = 16) << (8 * bytecount)\n        bytecount += 1\n        # Collect 4 bytes, write to npROM\n        if(bytecount == 4):\n            npROM[npROM_offset + npROM_index] = buffer\n            # Clear buffer and bytecount\n            buffer = 0\n            bytecount = 0\n            npROM_index += 1\n            #print (npROM_index)\n            continue\n    # Fill rest data if not alignment 4 bytes\n    if (bytecount != 0):\n        npROM[npROM_offset + npROM_index] = buffer\n        npROM_index += 1\n    \nfiROM.close()\n# ============================================\n# Enabling passthrou mode\n# ============================================\ncnfg(ip_QSPI)\n# Passthrou mode - Write command\nip_QSPI.write(XSP_DTR_OFFSET, 0xC4) # Pass-Through (management)\nip_QSPI.write(XSP_DTR_OFFSET, 0x02) # Command: Write data to memory\nip_QSPI.write(XSP_DTR_OFFSET, 0x00) # Address_byte0\nip_QSPI.write(XSP_DTR_OFFSET, 0x00) # Address_byte1\nip_QSPI.write(XSP_DTR_OFFSET, 0x00) # Address_byte2\n\nprint('XSP_TFO_OFFSET  : 0x{0:08x}'.format(ip_QSPI.read(XSP_TFO_OFFSET)))\n\nip_QSPI.write(XSP_SSR_OFFSET, 0xFFFFFFFE)\nwrite_tx_fifo(ip_QSPI)\n\nprint('XSP_TFO_OFFSET  : 0x{0:08x}'.format(ip_QSPI.read(XSP_TFO_OFFSET)))\n# ============================================\n# Writing FW into SPIROM\n# ============================================\n# Fill up Tx_FIFO (16) for each write_tx_fifo\nfor index in range (ROM_SIZE >> 2):\n     # 4 bytes alignment in npROM\n    for byte_shift in range(4):\n        tmp = int((npROM[index] >> (byte_shift * 8)) & 0xFF)\n        ip_QSPI.write(XSP_DTR_OFFSET, tmp) # Write_data\n    # TX_FIFO = 16, 4 * 4 = 16\n    if((index % 3) == 3):\n        write_tx_fifo(ip_QSPI)\n        \n# If rest data is not enough 16 bytes. Tx_FIFO is not empty\n    StatusReg = ip_QSPI.read(XSP_SR_OFFSET)\n    if ((StatusReg & XSP_SR_TX_EMPTY_MASK) == 0):\n         write_tx_fifo(ip_QSPI)\n# ============================================\n# Read SPIROM for testing\n# ============================================\ncnfg(ip_QSPI)\n# Test Passthrou mode - Read command\nip_QSPI.write(XSP_DTR_OFFSET, 0xC4) # Pass-Through (management)\nip_QSPI.write(XSP_DTR_OFFSET, 0x03) # Command: Read data from memory\nip_QSPI.write(XSP_DTR_OFFSET, 0x00) # Address_byte0\nip_QSPI.write(XSP_DTR_OFFSET, 0x00) # Address_byte1\nip_QSPI.write(XSP_DTR_OFFSET, 0x00) # Address_byte2\n# Write dummy data\ndata_length = 0x8\nfor index in range(data_length):\n    ip_QSPI.write(XSP_DTR_OFFSET, 0x00) # Dummy data\n\nprint('XSP_TFO_OFFSET  : 0x{0:08x}'.format(ip_QSPI.read(XSP_TFO_OFFSET)))\nip_QSPI.write(XSP_SSR_OFFSET, 0xFFFFFFFE)\n# Issue SPI master cycle\nwrite_tx_fifo(ip_QSPI)\n\n# Read the Rx data\nrx_final = read_rx_fifo(5, ip_QSPI)\nfor data in rx_final:\n    print (hex(data))\n# Write dummy data\ndata_length = 0x8\nfor index in range(data_length):\n    ip_QSPI.write(XSP_DTR_OFFSET, 0x00) # Dummy data\n\nprint('XSP_TFO_OFFSET  : 0x{0:08x}'.format(ip_QSPI.read(XSP_TFO_OFFSET)))\n# Issue SPI master cycle\nwrite_tx_fifo(ip_QSPI)\n\n# Read the Rx data\nrx_final = read_rx_fifo(0, ip_QSPI)\nfor data in rx_final:\n    print (hex(data))\n# ============================================\n# Exit passthrou mode, FW will be fetched\n# ============================================\nip_QSPI.write(XSP_SSR_OFFSET, SLAVE_NO_SELECTION)\n# Check MPRJ_IO input/out/en\n# 0x10 : Data signal of ps_mprj_in\n#        bit 31~0 - ps_mprj_in[31:0] (Read/Write)\n# 0x14 : Data signal of ps_mprj_in\n#        bit 5~0 - ps_mprj_in[37:32] (Read/Write)\n#        others  - reserved\n# 0x1c : Data signal of ps_mprj_out\n#        bit 31~0 - ps_mprj_out[31:0] (Read)\n# 0x20 : Data signal of ps_mprj_out\n#        bit 5~0 - ps_mprj_out[37:32] (Read)\n#        others  - reserved\n# 0x34 : Data signal of ps_mprj_en\n#        bit 31~0 - ps_mprj_en[31:0] (Read)\n# 0x38 : Data signal of ps_mprj_en\n#        bit 5~0 - ps_mprj_en[37:32] (Read)\n#        others  - reserved\n\nprint (\"0x10 = \", hex(ipPS.read(0x10)))\nprint (\"0x14 = \", hex(ipPS.read(0x14)))\nprint (\"0x1c = \", hex(ipPS.read(0x1c)))\nprint (\"0x20 = \", hex(ipPS.read(0x20)))\nprint (\"0x34 = \", hex(ipPS.read(0x34)))\nprint (\"0x38 = \", hex(ipPS.read(0x38)))\nIP_BASE_ADDRESS = 0x60000000\nADDRESS_RANGE = 0xa000\nmmio = MMIO(IP_BASE_ADDRESS, ADDRESS_RANGE)\n# PL_IS Config\nADDRESS_OFFSET = PL_IS #0x7000\nprint(\"mmio.read(ADDRESS_OFFSET): \", hex(mmio.read(ADDRESS_OFFSET)))\nmmio.write(ADDRESS_OFFSET, 0x12345671)\nprint(\"mmio.read(ADDRESS_OFFSET): \", hex(mmio.read(ADDRESS_OFFSET)))\nmmio.write(ADDRESS_OFFSET, 0x12345673)\nprint(\"mmio.read(ADDRESS_OFFSET): \", hex(mmio.read(ADDRESS_OFFSET)))\n# PL_DMA Config\nADDRESS_OFFSET = PL_DMA # 0x8000\nprint(\"mmio.read(ADDRESS_OFFSET): \", hex(mmio.read(ADDRESS_OFFSET)))\nprint(\"mmio.read(ADDRESS_OFFSET+0x10): \", hex(mmio.read(ADDRESS_OFFSET+0x10)))\nprint(\"mmio.read(ADDRESS_OFFSET+0x20): \", hex(mmio.read(ADDRESS_OFFSET+0x20)))\nprint(\"mmio.read(ADDRESS_OFFSET+0x28): \", hex(mmio.read(ADDRESS_OFFSET+0x28)))\nprint(\"mmio.read(ADDRESS_OFFSET+0x30): \", hex(mmio.read(ADDRESS_OFFSET+0x30)))\nprint(\"mmio.read(ADDRESS_OFFSET+0x38): \", hex(mmio.read(ADDRESS_OFFSET+0x38)))\nprint(\"mmio.read(ADDRESS_OFFSET+0x3C): \", hex(mmio.read(ADDRESS_OFFSET+0x3C)))\n# PL_AS Config\nADDRESS_OFFSET = PL_AS # 0x6000\nprint(\"mmio.read(ADDRESS_OFFSET): \", hex(mmio.read(ADDRESS_OFFSET)))\nmmio.write(ADDRESS_OFFSET, 0x12345676)\nprint(\"mmio.read(ADDRESS_OFFSET): \", hex(mmio.read(ADDRESS_OFFSET)))\n# PL_AA Config\nADDRESS_OFFSET = PL_AA # 0x2100\nprint(\"mmio.read(ADDRESS_OFFSET+0x00): \", hex(mmio.read(ADDRESS_OFFSET+0x00)))\nprint(\"mmio.read(ADDRESS_OFFSET+0x04): \", hex(mmio.read(ADDRESS_OFFSET+0x04))) \nmmio.write(ADDRESS_OFFSET+0x00, 0x11111111)\nmmio.write(ADDRESS_OFFSET+0x04, 0x22222222)\n# PL_AA_MB Mailbox\nADDRESS_OFFSET = PL_AA_MB # 0x2000\nprint(\"mmio.read(ADDRESS_OFFSET): \", hex(mmio.read(ADDRESS_OFFSET)))\nprint(\"mmio.read(ADDRESS_OFFSET+0x04): \", hex(mmio.read(ADDRESS_OFFSET+0x04)))\nprint(\"mmio.read(ADDRESS_OFFSET+0x08): \", hex(mmio.read(ADDRESS_OFFSET+0x08)))\nprint(\"mmio.read(ADDRESS_OFFSET+0x0C): \", hex(mmio.read(ADDRESS_OFFSET+0x0C)))\nprint(\"mmio.read(ADDRESS_OFFSET+0x10): \", hex(mmio.read(ADDRESS_OFFSET+0x10)))\nprint(\"mmio.read(ADDRESS_OFFSET+0x14): \", hex(mmio.read(ADDRESS_OFFSET+0x14)))\nprint(\"mmio.read(ADDRESS_OFFSET+0x18): \", hex(mmio.read(ADDRESS_OFFSET+0x18)))\nprint(\"mmio.read(ADDRESS_OFFSET+0x1C): \", hex(mmio.read(ADDRESS_OFFSET+0x1C)))\nmmio.write(ADDRESS_OFFSET, 0x11111112)\nmmio.write(ADDRESS_OFFSET+0x04, 0x22222223)\nmmio.write(ADDRESS_OFFSET+0x08, 0x33333334)\nmmio.write(ADDRESS_OFFSET+0x0C, 0x44444445)\nmmio.write(ADDRESS_OFFSET+0x10, 0x55555556)\nmmio.write(ADDRESS_OFFSET+0x14, 0x66666667)\nmmio.write(ADDRESS_OFFSET+0x18, 0x77777778)\nmmio.write(ADDRESS_OFFSET+0x1C, 0x88888889)\n# Caravel-IS Config\nADDRESS_OFFSET = SOC_IS # 0x3000\nprint(\"mmio.read(ADDRESS_OFFSET): \", hex(mmio.read(ADDRESS_OFFSET)))\n# Caravel-IS Config\nADDRESS_OFFSET = 0x3000\nmmio.write(ADDRESS_OFFSET, 0x00000003)\n# Caravel-AS Config\nADDRESS_OFFSET = SOC_AS # 0x4000\nprint(\"mmio.read(ADDRESS_OFFSET): \", hex(mmio.read(ADDRESS_OFFSET)))\n# Caravel-AS Config\nADDRESS_OFFSET = SOC_AS # 0x4000\nmmio.write(ADDRESS_OFFSET, 0x00000006)\n# Caravel-CC Config\nADDRESS_OFFSET = SOC_CC # 0x5000\nprint(\"mmio.read(ADDRESS_OFFSET): \", hex(mmio.read(ADDRESS_OFFSET)))\n# Caravel-CC Config\nADDRESS_OFFSET = SOC_CC # 0x5000\nmmio.write(ADDRESS_OFFSET, 0x00000000)\n# Caravel-LA Config\nADDRESS_OFFSET = SOC_LA # 0x1000\nprint(\"mmio.read(ADDRESS_OFFSET): \", hex(mmio.read(ADDRESS_OFFSET)))\n# Caravel-UP Config\nADDRESS_OFFSET = SOC_UP # 0x0000\nprint(\"mmio.read(ADDRESS_OFFSET): \", hex(mmio.read(ADDRESS_OFFSET+0x04)))",
      "metadata": {},
      "outputs": [
        {
          "data": {
            "application/javascript": [
              "\n",
              "try {\n",
              "require(['notebook/js/codecell'], function(codecell) {\n",
              "  codecell.CodeCell.options_default.highlight_modes[\n",
              "      'magic_text/x-csrc'] = {'reg':[/^%%microblaze/]};\n",
              "  Jupyter.notebook.events.one('kernel_ready.Kernel', function(){\n",
              "      Jupyter.notebook.get_cells().map(function(cell){\n",
              "          if (cell.cell_type == 'code'){ cell.auto_highlight(); } }) ;\n",
              "  });\n",
              "});\n",
              "} catch (e) {};\n"
            ]
          },
          "metadata": {},
          "output_type": "display_data"
        },
        {
          "data": {
            "application/javascript": [
              "\n",
              "try {\n",
              "require(['notebook/js/codecell'], function(codecell) {\n",
              "  codecell.CodeCell.options_default.highlight_modes[\n",
              "      'magic_text/x-csrc'] = {'reg':[/^%%pybind11/]};\n",
              "  Jupyter.notebook.events.one('kernel_ready.Kernel', function(){\n",
              "      Jupyter.notebook.get_cells().map(function(cell){\n",
              "          if (cell.cell_type == 'code'){ cell.auto_highlight(); } }) ;\n",
              "  });\n",
              "});\n",
              "} catch (e) {};\n"
            ]
          },
          "metadata": {},
          "output_type": "display_data"
        },
        {
          "name": "stdout",
          "output_type": "stream",
          "text": [
            "0x10 =  0x0\n",
            "0x14 =  0x0\n",
            "0x1c =  0x0\n",
            "0x20 =  0x0\n",
            "0x34 =  0xfffffff7\n",
            "0x38 =  0x3f\n",
            "0\n",
            "1\n",
            "Configure device\n",
            "XSP_TFO_OFFSET  : 0x00000004\n",
            "XSP_TFO_OFFSET  : 0x00000000\n",
            "Configure device\n",
            "XSP_TFO_OFFSET  : 0x0000000c\n",
            "0x6f\n",
            "0x0\n",
            "0x0\n",
            "0xb\n",
            "0x13\n",
            "0x0\n",
            "0x0\n",
            "0x0\n",
            "XSP_TFO_OFFSET  : 0x00000007\n",
            "0x13\n",
            "0x0\n",
            "0x0\n",
            "0x0\n",
            "0x13\n",
            "0x0\n",
            "0x0\n",
            "0x0\n",
            "0x10 =  0x0\n",
            "0x14 =  0x0\n",
            "0x1c =  0x0\n",
            "0x20 =  0x0\n",
            "0x34 =  0x3ffff6\n",
            "0x38 =  0x10\n",
            "mmio.read(ADDRESS_OFFSET):  0x0\n",
            "mmio.read(ADDRESS_OFFSET):  0x1\n",
            "mmio.read(ADDRESS_OFFSET):  0x3\n",
            "mmio.read(ADDRESS_OFFSET):  0x4\n",
            "mmio.read(ADDRESS_OFFSET+0x10):  0x0\n",
            "mmio.read(ADDRESS_OFFSET+0x20):  0x0\n",
            "mmio.read(ADDRESS_OFFSET+0x28):  0x0\n",
            "mmio.read(ADDRESS_OFFSET+0x30):  0x0\n",
            "mmio.read(ADDRESS_OFFSET+0x38):  0x0\n",
            "mmio.read(ADDRESS_OFFSET+0x3C):  0x0\n",
            "mmio.read(ADDRESS_OFFSET):  0x6\n",
            "mmio.read(ADDRESS_OFFSET):  0x6\n",
            "mmio.read(ADDRESS_OFFSET+0x00):  0x0\n",
            "mmio.read(ADDRESS_OFFSET+0x04):  0x0\n",
            "mmio.read(ADDRESS_OFFSET):  0x0\n",
            "mmio.read(ADDRESS_OFFSET+0x04):  0x0\n",
            "mmio.read(ADDRESS_OFFSET+0x08):  0x0\n",
            "mmio.read(ADDRESS_OFFSET+0x0C):  0x0\n",
            "mmio.read(ADDRESS_OFFSET+0x10):  0x0\n",
            "mmio.read(ADDRESS_OFFSET+0x14):  0x0\n",
            "mmio.read(ADDRESS_OFFSET+0x18):  0x0\n",
            "mmio.read(ADDRESS_OFFSET+0x1C):  0x0\n",
            "mmio.read(ADDRESS_OFFSET):  0x1\n",
            "mmio.read(ADDRESS_OFFSET):  0x6\n",
            "mmio.read(ADDRESS_OFFSET):  0x1f\n",
            "mmio.read(ADDRESS_OFFSET):  0x0\n",
            "mmio.read(ADDRESS_OFFSET):  0x280\n",
            "ladma_buf.device_address:  0x16849000\n",
            "mmio.read(ADDRESS_OFFSET+0x00):  0x4\n",
            "mmio.read(ADDRESS_OFFSET+0x10):  0x0\n",
            "mmio.read(ADDRESS_OFFSET+0x20):  0x0\n",
            "mmio.read(ADDRESS_OFFSET+0x28):  0x400\n",
            "mmio.read(ADDRESS_OFFSET+0x30):  0x0\n",
            "mmio.read(ADDRESS_OFFSET+0x38):  0x16849000\n",
            "mmio.read(ADDRESS_OFFSET+0x3C):  0x0\n",
            "mmio.read(ADDRESS_OFFSET+0x10):  0x1\n",
            "mmio.read(ADDRESS_OFFSET+0x10):  0x0\n",
            "mmio.read(ADDRESS_OFFSET+0x00):  0xe\n",
            "mmio.read(ADDRESS_OFFSET+0x10):  0x0\n",
            "mmio.read(ADDRESS_OFFSET+0x20):  0x1\n",
            "mmio.read(ADDRESS_OFFSET+0x28):  0x400\n",
            "mmio.read(ADDRESS_OFFSET+0x30):  0x0\n",
            "mmio.read(ADDRESS_OFFSET+0x38):  0x16849000\n",
            "mmio.read(ADDRESS_OFFSET+0x3C):  0x0\n",
            "mmio.read(ADDRESS_OFFSET):  0x0\n",
            "mmio.read(ADDRESS_OFFSET):  0x0\n"
          ]
        }
      ],
      "execution_count": 1
    },
    {
      "id": "3cf413b9",
      "cell_type": "code",
      "source": "# choose uprj1\nADDRESS_OFFSET = SOC_CC # 0x5000\nmmio.write(ADDRESS_OFFSET, 0x00000001)\n# set len\nADDRESS_OFFSET = SOC_UP \nmmio.write(ADDRESS_OFFSET+0x10, 0x00000040)\n# set coef\ncoef=[0x0,0xFFFFFFF6,0xFFFFFFF7,0x00000017,0x00000038,0x0000003f,0x00000038,0x00000017,0xFFFFFFF7,0xFFFFFFF6,0x0]\nADDRESS_OFFSET = SOC_UP \nfor i in range(11):\n    mmio.write(ADDRESS_OFFSET+0x20+4*i, coef[i])\n",
      "metadata": {},
      "outputs": [],
      "execution_count": 2
    },
    {
      "id": "7ee7b484",
      "cell_type": "code",
      "source": "#setting dma \nmmio_usedma = MMIO(0x40020000, 0x10000)",
      "metadata": {},
      "outputs": [],
      "execution_count": 3
    },
    {
      "id": "75bc604c",
      "cell_type": "code",
      "source": "mmio_usedma.write(0x20, 0x00000000)#s2m exit clear\nmmio_usedma.write(0x30, 0x00000000)#s2m disable to clear\nmmio_usedma.write(0x78, 0x00000000)#m2s exit clear\nmmio_usedma.write(0x88, 0x00000000)#m2s disable to clear\nmmio_usedma.write(0x28, 0x00000040)#s2m set buffer len\nuserma_buf_out= allocate(shape=(1024,), dtype=np.uint32)\nmmio_usedma.write(0x38,userma_buf_out.device_address)  #output buffer addr low\nmmio_usedma.write(0x3c,0x00000000)  #outputbuffer addr high\nmmio_usedma.write(0x54, 0x00000040)#imgwidth\nuserma_buf= allocate(shape=(1024,), dtype=np.uint32)\nmmio_usedma.write(0x5c,userma_buf.device_address)  #input buffer addr low\nmmio_usedma.write(0x60,0x00000000)  #inputbuffer addr high\nmmio_usedma.write(0x80, 0x00000040)#m2s set buffer len",
      "metadata": {},
      "outputs": [],
      "execution_count": null
    },
    {
      "id": "bc59794a-2b10-4aca-98a3-693bbf4775d5",
      "cell_type": "code",
      "source": "for i in range(64):\n    userma_buf[i]=i",
      "metadata": {
        "trusted": true
      },
      "outputs": [],
      "execution_count": null
    },
    {
      "id": "040ab69d-b2b2-4ff0-9b67-beead0981531",
      "cell_type": "code",
      "source": "# fir ap_start\nADDRESS_OFFSET = SOC_UP \nmmio.write(ADDRESS_OFFSET, 0x00000001)",
      "metadata": {
        "trusted": true
      },
      "outputs": [],
      "execution_count": null
    },
    {
      "id": "cbf66bb7-be6d-44cb-99da-9447d0400a03",
      "cell_type": "code",
      "source": "# dma_start\nmmio_usedma.write(0x00,0x00000001) ",
      "metadata": {
        "trusted": true
      },
      "outputs": [],
      "execution_count": null
    },
    {
      "id": "0329cc24-d485-4beb-bbcd-896c6c7dd0c5",
      "cell_type": "code",
      "source": "while True:\n    if mmio_usedma.read(0x10) == 0x01:\n        break",
      "metadata": {
        "trusted": true
      },
      "outputs": [],
      "execution_count": null
    },
    {
      "id": "3375d8df-e546-4367-aa7d-6654964cc61c",
      "cell_type": "code",
      "source": "print(\"mmio.read(0x10): \", hex(mmio.read(0x00))) # check fir done if done should print =6",
      "metadata": {
        "trusted": true
      },
      "outputs": [],
      "execution_count": null
    }
  ]
}